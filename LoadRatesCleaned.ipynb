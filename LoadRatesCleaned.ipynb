{
 "cells": [
  {
   "cell_type": "code",
   "execution_count": 41,
   "metadata": {
    "collapsed": true
   },
   "outputs": [],
   "source": [
    "import csv\n",
    "from datetime import datetime"
   ]
  },
  {
   "cell_type": "code",
   "execution_count": 42,
   "metadata": {
    "collapsed": false
   },
   "outputs": [],
   "source": [
    "with open('prosperLoanData.csv') as f:\n",
    "    reader = csv.DictReader(f)\n",
    "    with open('prosperLoanData_cleaned.csv', 'wb') as p:\n",
    "        writer=csv.writer(p)\n",
    "        writer.writerow(['Year','IncomeRange','ProsperRating','EstimatedReturn'])\n",
    "        for line in reader:\n",
    "            date=line['LoanOriginationDate'].split('-')\n",
    "            month=int(date[1])\n",
    "            year=int(date[0])\n",
    "            if year >= 2009 and year <= 2016 and line['IncomeRange'] !=''and line['EstimatedReturn'] != '':\n",
    "                writer.writerow([year,str(line['IncomeRange']),line['ProsperRating (Alpha)'],\n",
    "                                 float(line['EstimatedReturn'])])\n",
    "            \n"
   ]
  },
  {
   "cell_type": "code",
   "execution_count": null,
   "metadata": {
    "collapsed": true
   },
   "outputs": [],
   "source": []
  }
 ],
 "metadata": {
  "anaconda-cloud": {},
  "kernelspec": {
   "display_name": "Python [conda root]",
   "language": "python",
   "name": "conda-root-py"
  },
  "language_info": {
   "codemirror_mode": {
    "name": "ipython",
    "version": 2
   },
   "file_extension": ".py",
   "mimetype": "text/x-python",
   "name": "python",
   "nbconvert_exporter": "python",
   "pygments_lexer": "ipython2",
   "version": "2.7.13"
  }
 },
 "nbformat": 4,
 "nbformat_minor": 2
}
