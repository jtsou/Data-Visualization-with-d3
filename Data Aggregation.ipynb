{
 "cells": [
  {
   "cell_type": "code",
   "execution_count": 2,
   "metadata": {
    "collapsed": true
   },
   "outputs": [],
   "source": [
    "import pandas as pd\n",
    "import numpy as np\n",
    "import csv"
   ]
  },
  {
   "cell_type": "code",
   "execution_count": 3,
   "metadata": {
    "collapsed": false
   },
   "outputs": [],
   "source": [
    "data = pd.read_csv('prosperLoanData_cleaned.csv')\n",
    "grouped_by_year = data.groupby([\"Year\", \"ProsperRating\"])\n",
    "grouped_by_all_years=data.loc[:,[\"ProsperRating\", \"EstimatedReturn\"]].groupby('ProsperRating')\n"
   ]
  },
  {
   "cell_type": "code",
   "execution_count": 9,
   "metadata": {
    "collapsed": false
   },
   "outputs": [
    {
     "name": "stdout",
     "output_type": "stream",
     "text": [
      "                    1th Percentile   Average   Median  99th Percentile  \\\n",
      "Year ProsperRating                                                       \n",
      "2009 A                    0.050900  0.080576  0.07270         0.155450   \n",
      "     AA                   0.036980  0.068926  0.06550         0.125200   \n",
      "     B                    0.062953  0.094668  0.08760         0.188640   \n",
      "     C                    0.040973  0.121671  0.12110         0.246711   \n",
      "     D                    0.012140  0.144376  0.14770         0.231300   \n",
      "     E                   -0.004772  0.146906  0.17680         0.184300   \n",
      "     HR                  -0.181600  0.067055  0.10200         0.139900   \n",
      "2010 A                    0.043392  0.065260  0.06080         0.118576   \n",
      "     AA                   0.031790  0.059436  0.05550         0.124800   \n",
      "     B                    0.036735  0.077840  0.07720         0.133235   \n",
      "     C                    0.031413  0.117071  0.11960         0.212938   \n",
      "     D                    0.021260  0.143933  0.15040         0.223270   \n",
      "     E                    0.024901  0.154603  0.17610         0.184300   \n",
      "     HR                  -0.104770  0.087376  0.12120         0.139900   \n",
      "2011 A                    0.036900  0.074430  0.07660         0.120500   \n",
      "     AA                   0.024500  0.053633  0.05540         0.090300   \n",
      "     B                    0.048800  0.095406  0.09630         0.142000   \n",
      "     C                    0.079300  0.112245  0.11470         0.159500   \n",
      "     D                    0.086840  0.135045  0.13570         0.175500   \n",
      "     E                    0.098200  0.144855  0.14870         0.156100   \n",
      "     HR                   0.088700  0.113574  0.11480         0.126700   \n",
      "2012 A                    0.030900  0.077368  0.07180         0.122200   \n",
      "     AA                   0.038100  0.061196  0.05500         0.093300   \n",
      "     B                    0.043500  0.101585  0.09530         0.138900   \n",
      "     C                    0.052400  0.117812  0.11100         0.149200   \n",
      "     D                    0.058400  0.125953  0.11955         0.163400   \n",
      "     E                    0.064590  0.130053  0.12695         0.158800   \n",
      "     HR                   0.112400  0.122810  0.12460         0.127100   \n",
      "2013 A                    0.053420  0.068441  0.06910         0.082100   \n",
      "     AA                   0.038640  0.049765  0.05047         0.055400   \n",
      "     B                    0.069700  0.083766  0.08268         0.112700   \n",
      "     C                    0.077130  0.093103  0.08976         0.126134   \n",
      "     D                    0.061800  0.102309  0.10250         0.130172   \n",
      "     E                    0.094140  0.109950  0.10941         0.133500   \n",
      "     HR                   0.104310  0.114674  0.11348         0.118500   \n",
      "2014 A                    0.052930  0.062180  0.06388         0.069100   \n",
      "     AA                   0.042310  0.046449  0.04806         0.049290   \n",
      "     B                    0.064910  0.071944  0.07192         0.075170   \n",
      "     C                    0.072410  0.079169  0.07923         0.082840   \n",
      "     D                    0.079070  0.086607  0.08578         0.092110   \n",
      "     E                    0.089560  0.098570  0.09858         0.102560   \n",
      "     HR                   0.099750  0.105197  0.10663         0.106630   \n",
      "\n",
      "                    Number of Loans  \n",
      "Year ProsperRating                   \n",
      "2009 A                          458  \n",
      "     AA                         297  \n",
      "     B                           98  \n",
      "     C                          390  \n",
      "     D                          333  \n",
      "     E                          193  \n",
      "     HR                         207  \n",
      "2010 A                          963  \n",
      "     AA                         639  \n",
      "     B                          536  \n",
      "     C                          594  \n",
      "     D                         1311  \n",
      "     E                          630  \n",
      "     HR                         906  \n",
      "2011 A                         1479  \n",
      "     AA                         551  \n",
      "     B                         1610  \n",
      "     C                          888  \n",
      "     D                         3273  \n",
      "     E                         2306  \n",
      "     HR                        1121  \n",
      "2012 A                         2760  \n",
      "     AA                        1076  \n",
      "     B                         3071  \n",
      "     C                         3891  \n",
      "     D                         3222  \n",
      "     E                         1904  \n",
      "     HR                        3629  \n",
      "2013 A                         5943  \n",
      "     AA                        1721  \n",
      "     B                         7558  \n",
      "     C                         9223  \n",
      "     D                         5017  \n",
      "     E                         3914  \n",
      "     HR                         969  \n",
      "2014 A                         2948  \n",
      "     AA                        1088  \n",
      "     B                         2708  \n",
      "     C                         3359  \n",
      "     D                         1118  \n",
      "     E                          848  \n",
      "     HR                         103  \n"
     ]
    }
   ],
   "source": [
    "concat_by_year = pd.concat([grouped_by_year.quantile(0.01), grouped_by_year.mean(), grouped_by_year.median(), grouped_by_year.quantile(.99), grouped_by_year.size()],axis=1)\n",
    "\n",
    "concat_by_year.columns = ['1th Percentile', 'Average', 'Median', '99th Percentile', 'Number of Loans']\n",
    "print concat_by_year"
   ]
  },
  {
   "cell_type": "code",
   "execution_count": 10,
   "metadata": {
    "collapsed": true
   },
   "outputs": [],
   "source": [
    "grouped_by_income=data.groupby(['Year','IncomeRange'])\n",
    "grouped_by_all_income=data.loc[:,[\"IncomeRange\", \"EstimatedReturn\"]].groupby('EstimatedReturn')"
   ]
  },
  {
   "cell_type": "code",
   "execution_count": 11,
   "metadata": {
    "collapsed": false
   },
   "outputs": [
    {
     "name": "stdout",
     "output_type": "stream",
     "text": [
      "                     1th Percentile   Average   Median  99th Percentile  \\\n",
      "Year IncomeRange                                                          \n",
      "2009 $0                   -0.014558  0.064933  0.08550         0.125092   \n",
      "     $1-24,999            -0.061173  0.102778  0.10040         0.184300   \n",
      "     $100,000+            -0.071600  0.101025  0.09000         0.225550   \n",
      "     $25,000-49,999       -0.086600  0.106023  0.11080         0.206371   \n",
      "     $50,000-74,999       -0.017170  0.102538  0.09520         0.215645   \n",
      "     $75,000-99,999       -0.017628  0.103043  0.09210         0.212316   \n",
      "     Not employed         -0.010431  0.092892  0.10420         0.184224   \n",
      "2010 $0                    0.033976  0.098167  0.07720         0.168696   \n",
      "     $1-24,999            -0.031169  0.110399  0.12735         0.182048   \n",
      "     $100,000+            -0.033710  0.097544  0.07960         0.192476   \n",
      "     $25,000-49,999       -0.046100  0.105857  0.11720         0.184300   \n",
      "     $50,000-74,999       -0.062600  0.101467  0.09280         0.187500   \n",
      "     $75,000-99,999       -0.046100  0.103126  0.09105         0.207912   \n",
      "     Not employed         -0.005958  0.116532  0.13340         0.226242   \n",
      "2011 $0                    0.098890  0.132407  0.13570         0.155064   \n",
      "     $1-24,999             0.056245  0.126476  0.13170         0.169800   \n",
      "     $100,000+             0.027100  0.105423  0.10740         0.169800   \n",
      "     $25,000-49,999        0.040000  0.120556  0.12670         0.169800   \n",
      "     $50,000-74,999        0.040000  0.114855  0.12060         0.169800   \n",
      "     $75,000-99,999        0.030540  0.109577  0.11480         0.169800   \n",
      "     Not employed          0.049425  0.125928  0.13170         0.157300   \n",
      "2012 $0                    0.093332  0.121969  0.12460         0.154532   \n",
      "     $1-24,999             0.052400  0.117300  0.12390         0.158700   \n",
      "     $100,000+             0.038600  0.101299  0.10740         0.157332   \n",
      "     $25,000-49,999        0.043266  0.114305  0.12000         0.158700   \n",
      "     $50,000-74,999        0.039900  0.109672  0.11450         0.158700   \n",
      "     $75,000-99,999        0.038100  0.106137  0.11240         0.158635   \n",
      "     Not employed          0.056321  0.118695  0.12320         0.171221   \n",
      "2013 $0                    0.085572  0.111640  0.11850         0.118500   \n",
      "     $1-24,999             0.051000  0.097800  0.09990         0.127264   \n",
      "     $100,000+             0.042600  0.082181  0.08210         0.124200   \n",
      "     $25,000-49,999        0.049800  0.093310  0.09220         0.125000   \n",
      "     $50,000-74,999        0.046560  0.088363  0.08728         0.124800   \n",
      "     $75,000-99,999        0.042610  0.086136  0.08578         0.124400   \n",
      "     Not employed          0.108828  0.117299  0.11850         0.118500   \n",
      "2014 $1-24,999             0.048060  0.079606  0.08022         0.106630   \n",
      "     $100,000+             0.042600  0.069013  0.07045         0.102560   \n",
      "     $25,000-49,999        0.045540  0.076718  0.07713         0.104310   \n",
      "     $50,000-74,999        0.042600  0.072608  0.07400         0.102560   \n",
      "     $75,000-99,999        0.042600  0.070764  0.07192         0.102560   \n",
      "\n",
      "                     Number of Loans  \n",
      "Year IncomeRange                      \n",
      "2009 $0                            3  \n",
      "     $1-24,999                   150  \n",
      "     $100,000+                   226  \n",
      "     $25,000-49,999              658  \n",
      "     $50,000-74,999              606  \n",
      "     $75,000-99,999              309  \n",
      "     Not employed                 24  \n",
      "2010 $0                            9  \n",
      "     $1-24,999                   464  \n",
      "     $100,000+                   760  \n",
      "     $25,000-49,999             1837  \n",
      "     $50,000-74,999             1621  \n",
      "     $75,000-99,999              844  \n",
      "     Not employed                 44  \n",
      "2011 $0                           15  \n",
      "     $1-24,999                   866  \n",
      "     $100,000+                  1802  \n",
      "     $25,000-49,999             3584  \n",
      "     $50,000-74,999             3072  \n",
      "     $75,000-99,999             1713  \n",
      "     Not employed                176  \n",
      "2012 $0                           13  \n",
      "     $1-24,999                  1471  \n",
      "     $100,000+                  3263  \n",
      "     $25,000-49,999             6075  \n",
      "     $50,000-74,999             5395  \n",
      "     $75,000-99,999             3014  \n",
      "     Not employed                322  \n",
      "2013 $0                            5  \n",
      "     $1-24,999                  1310  \n",
      "     $100,000+                  6621  \n",
      "     $25,000-49,999             8967  \n",
      "     $50,000-74,999            10982  \n",
      "     $75,000-99,999             6377  \n",
      "     Not employed                 83  \n",
      "2014 $1-24,999                   393  \n",
      "     $100,000+                  2533  \n",
      "     $25,000-49,999             3054  \n",
      "     $50,000-74,999             3951  \n",
      "     $75,000-99,999             2241  \n"
     ]
    }
   ],
   "source": [
    "concat_by_income = pd.concat([grouped_by_income.quantile(.01), grouped_by_income.mean(), grouped_by_income.median(), grouped_by_income.quantile(.99), grouped_by_income.size()],axis=1)\n",
    "concat_by_income.columns = ['1th Percentile', 'Average', 'Median', '99th Percentile', 'Number of Loans']\n",
    "print concat_by_income"
   ]
  },
  {
   "cell_type": "code",
   "execution_count": 15,
   "metadata": {
    "collapsed": false
   },
   "outputs": [
    {
     "name": "stdout",
     "output_type": "stream",
     "text": [
      "                    Year  5th Percentile   Average   Median  95th Percentile  \\\n",
      "ProsperRating                                                                  \n",
      "A              All Years         0.05342  0.069646  0.06663           0.1010   \n",
      "AA             All Years         0.04000  0.053990  0.05100           0.0854   \n",
      "B              All Years         0.06925  0.086291  0.08215           0.1272   \n",
      "C              All Years         0.07713  0.098103  0.09220           0.1440   \n",
      "D              All Years         0.08370  0.118727  0.11630           0.1560   \n",
      "E              All Years         0.09620  0.124690  0.12390           0.1588   \n",
      "HR             All Years         0.06990  0.113625  0.12210           0.1369   \n",
      "\n",
      "               Number of Loans  \n",
      "ProsperRating                   \n",
      "A                        14551  \n",
      "AA                        5372  \n",
      "B                        15581  \n",
      "C                        18345  \n",
      "D                        14274  \n",
      "E                         9795  \n",
      "HR                        6935  \n"
     ]
    }
   ],
   "source": [
    "concat_by_all_years = pd.concat([grouped_by_all_years.quantile(.05), grouped_by_all_years.mean(), grouped_by_all_years.median(), grouped_by_all_years.quantile(.95), grouped_by_all_years.size()],axis = 1)\n",
    "concat_by_all_years.insert(loc = 0, column = 'Year', value = \"All Years\")\n",
    "concat_by_all_years.columns = ['Year', '5th Percentile', 'Average', 'Median', '95th Percentile', 'Number of Loans']\n",
    "print concat_by_all_years"
   ]
  },
  {
   "cell_type": "code",
   "execution_count": 16,
   "metadata": {
    "collapsed": false
   },
   "outputs": [],
   "source": [
    "concat_by_year.to_csv(\"prosperLoanData_aggregated_year.csv\")\n",
    "concat_by_all_years.to_csv(\"prosperLoanData_aggregated_allyear.csv\")\n",
    "concat_by_income.to_csv(\"prosperLoanData_aggregated_income.csv\")"
   ]
  },
  {
   "cell_type": "code",
   "execution_count": null,
   "metadata": {
    "collapsed": true
   },
   "outputs": [],
   "source": []
  }
 ],
 "metadata": {
  "anaconda-cloud": {},
  "kernelspec": {
   "display_name": "Python [conda root]",
   "language": "python",
   "name": "conda-root-py"
  },
  "language_info": {
   "codemirror_mode": {
    "name": "ipython",
    "version": 2
   },
   "file_extension": ".py",
   "mimetype": "text/x-python",
   "name": "python",
   "nbconvert_exporter": "python",
   "pygments_lexer": "ipython2",
   "version": "2.7.13"
  }
 },
 "nbformat": 4,
 "nbformat_minor": 2
}
